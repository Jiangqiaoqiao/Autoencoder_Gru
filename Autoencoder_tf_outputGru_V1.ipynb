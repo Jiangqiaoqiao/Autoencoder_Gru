{
 "cells": [
  {
   "cell_type": "code",
   "execution_count": 1,
   "metadata": {},
   "outputs": [],
   "source": [
    "import numpy as np\n",
    "import pandas as pd\n",
    "import tensorflow as tf\n",
    "import os\n",
    "import time "
   ]
  },
  {
   "cell_type": "code",
   "execution_count": 2,
   "metadata": {},
   "outputs": [],
   "source": [
    "def readucr(filename):#读取数据\n",
    "    data = np.loadtxt(filename, dtype=str, delimiter=',') \n",
    "    x = np.array(data[:, 0:575], dtype=np.float32)\n",
    "    y = np.array(data[:, 1:576], dtype=np.float32)\n",
    "    x = x.reshape(x.shape[0], -1, 1)\n",
    "    y = y.reshape(y.shape[0], -1, 1)\n",
    "    print(f'{filename}: {x.shape}, {y.shape}')\n",
    "    return x, y"
   ]
  },
  {
   "cell_type": "code",
   "execution_count": 3,
   "metadata": {},
   "outputs": [],
   "source": [
    "class Autoencoder_GRU: # GRU神经网络\n",
    "    \"\"\"\n",
    "        model初始化\n",
    "    \"\"\"\n",
    "    def __init__(self, output_directory, input_shape, output_shape, verbose= True): \n",
    "        self.output_directory = output_directory\n",
    "        self.input_shape = input_shape\n",
    "        self.output_shape = output_shape\n",
    "        self.verbose = verbose\n",
    "        \n",
    "        self.model = self.build_model() # 调用 build_model\n",
    "        if(verbose == True):\n",
    "            self.model.summary() # 打印 model 结构\n",
    "        if not os.path.exists(self.output_directory):\n",
    "            os.mkdir(self.output_directory)\n",
    "        init_model_file = os.path.join(self.output_directory, 'model_init.hdf5')\n",
    "        self.model.save_weights(init_model_file) # 保存初始权重\n",
    "\n",
    "    \"\"\"\n",
    "       创建model\n",
    "    \"\"\"         \n",
    "    def build_model(self): \n",
    "        # model 网络结构\n",
    "        input_layer = tf.keras.Input(self.input_shape)\n",
    "        layer_1 = tf.keras.layers.GRU(20, return_sequences=True)(input_layer) \n",
    "        layer_2 = tf.keras.layers.BatchNormalization()(layer_1)\n",
    "        layer_3 = tf.keras.layers.Activation(activation='tanh', name='gru_output')(layer_2)\n",
    "        output_layer = tf.keras.layers.Dense(self.output_shape)(layer_3)\n",
    "\n",
    "        model = tf.keras.Model(inputs=input_layer, outputs=output_layer)\n",
    "        # 编译model\n",
    "        model.compile(loss='mse', optimizer='adam',metrics=['mae']) \n",
    "        \n",
    "        # 设置 callbacks 回调\n",
    "        reduce_lr = tf.keras.callbacks.ReduceLROnPlateau(monitor='loss', # 用于动态调整learning rate\n",
    "                                                         factor=0.5, \n",
    "                                                         patience=50, \n",
    "                                                         min_lr=0.0001)\n",
    "\n",
    "        file_path =  os.path.join(self.output_directory, 'best1_model.hdf5')\n",
    "\n",
    "        model_checkpoint = tf.keras.callbacks.ModelCheckpoint(filepath=file_path, \n",
    "                                                              monitor='loss', \n",
    "                                                              save_best_only=True)\n",
    "\n",
    "        self.callbacks = [reduce_lr, model_checkpoint]\n",
    "\n",
    "        return model \n",
    "\n",
    "    # 训练model\n",
    "    def fit(self, x_train, y_train, x_val, y_val, epochs): \n",
    "        \"\"\"\n",
    "            验证集: (x_val, y_val) 用于监控loss，防止overfitting\n",
    "        \"\"\"  \n",
    "        batch_size = 16\n",
    "        mini_batch_size = int(min(x_train.shape[0]/10, batch_size))\n",
    "\n",
    "        start_time = time.time() \n",
    "\n",
    "        hist = self.model.fit(x_train, y_train, \n",
    "                              validation_data=(x_val, y_val),\n",
    "                              batch_size=mini_batch_size, \n",
    "                              epochs=epochs,\n",
    "                              verbose=self.verbose,  \n",
    "                              callbacks=self.callbacks)\n",
    "        \n",
    "        duration = time.time() - start_time\n",
    "\n",
    "        tf.keras.backend.clear_session() # 清除当前tf计算图\n"
   ]
  },
  {
   "cell_type": "code",
   "execution_count": 4,
   "metadata": {},
   "outputs": [
    {
     "name": "stdout",
     "output_type": "stream",
     "text": [
      "Car_TRAIN.txt: (60, 575, 1), (60, 575, 1)\n",
      "Car_TEST.txt: (60, 575, 1), (60, 575, 1)\n"
     ]
    }
   ],
   "source": [
    "X_train,Y_train = readucr('Car_TRAIN.txt')\n",
    "X_test,Y_test = readucr('Car_TEST.txt')"
   ]
  },
  {
   "cell_type": "code",
   "execution_count": 5,
   "metadata": {},
   "outputs": [],
   "source": [
    "input_shape = X_train.shape[1:]"
   ]
  },
  {
   "cell_type": "code",
   "execution_count": 6,
   "metadata": {
    "scrolled": true
   },
   "outputs": [
    {
     "name": "stdout",
     "output_type": "stream",
     "text": [
      "Model: \"model\"\n",
      "_________________________________________________________________\n",
      "Layer (type)                 Output Shape              Param #   \n",
      "=================================================================\n",
      "input_1 (InputLayer)         [(None, 575, 1)]          0         \n",
      "_________________________________________________________________\n",
      "gru (GRU)                    (None, 575, 20)           1380      \n",
      "_________________________________________________________________\n",
      "batch_normalization (BatchNo (None, 575, 20)           80        \n",
      "_________________________________________________________________\n",
      "gru_output (Activation)      (None, 575, 20)           0         \n",
      "_________________________________________________________________\n",
      "dense (Dense)                (None, 575, 1)            21        \n",
      "=================================================================\n",
      "Total params: 1,481\n",
      "Trainable params: 1,441\n",
      "Non-trainable params: 40\n",
      "_________________________________________________________________\n"
     ]
    }
   ],
   "source": [
    "model = Autoencoder_GRU('test', input_shape, 1)"
   ]
  },
  {
   "cell_type": "code",
   "execution_count": 7,
   "metadata": {
    "scrolled": true
   },
   "outputs": [
    {
     "name": "stdout",
     "output_type": "stream",
     "text": [
      "Train on 60 samples, validate on 60 samples\n",
      "Epoch 1/5\n",
      "60/60 [==============================] - 8s 134ms/sample - loss: 1.2880 - mae: 1.0031 - val_loss: 1.0847 - val_mae: 0.9172\n",
      "Epoch 2/5\n",
      "60/60 [==============================] - 4s 61ms/sample - loss: 0.3738 - mae: 0.5041 - val_loss: 0.9469 - val_mae: 0.8567\n",
      "Epoch 3/5\n",
      "60/60 [==============================] - 4s 59ms/sample - loss: 0.0353 - mae: 0.1443 - val_loss: 0.8511 - val_mae: 0.8118\n",
      "Epoch 4/5\n",
      "60/60 [==============================] - 4s 58ms/sample - loss: 0.0384 - mae: 0.1630 - val_loss: 0.8204 - val_mae: 0.7970\n",
      "Epoch 5/5\n",
      "60/60 [==============================] - 4s 59ms/sample - loss: 0.0394 - mae: 0.1674 - val_loss: 0.8248 - val_mae: 0.7996\n"
     ]
    }
   ],
   "source": [
    "model.fit(X_train, Y_train, X_test, Y_test, 5)"
   ]
  },
  {
   "cell_type": "code",
   "execution_count": 8,
   "metadata": {},
   "outputs": [],
   "source": [
    "initial_model = tf.keras.models.load_model('test/best1_model.hdf5')"
   ]
  },
  {
   "cell_type": "code",
   "execution_count": 9,
   "metadata": {
    "scrolled": true
   },
   "outputs": [],
   "source": [
    "gru_output_model = tf.keras.Model(\n",
    "    inputs = initial_model.input,\n",
    "    outputs = initial_model.get_layer('gru_output').output\n",
    ")"
   ]
  },
  {
   "cell_type": "code",
   "execution_count": 10,
   "metadata": {},
   "outputs": [
    {
     "data": {
      "text/plain": [
       "array([[[-0.1226807 , -0.00656664, -0.03303735, ..., -0.12119589,\n",
       "         -0.13136786, -0.19281803],\n",
       "        [-0.16349672,  0.00175988, -0.05068986, ..., -0.169845  ,\n",
       "         -0.17041363, -0.28307983],\n",
       "        [-0.17361991,  0.01070093, -0.06663083, ..., -0.18729421,\n",
       "         -0.18337937, -0.32570148],\n",
       "        ...,\n",
       "        [-0.1596286 ,  0.05563255, -0.10797611, ..., -0.19153723,\n",
       "         -0.20483914, -0.37481895],\n",
       "        [-0.15891242,  0.05577553, -0.10764334, ..., -0.19084422,\n",
       "         -0.20509815, -0.3738011 ],\n",
       "        [-0.16210368,  0.05631377, -0.10788301, ..., -0.19409893,\n",
       "         -0.20843814, -0.37699157]],\n",
       "\n",
       "       [[-0.14440955, -0.00451682, -0.03570873, ..., -0.13772254,\n",
       "         -0.14907391, -0.21614803],\n",
       "        [-0.1921086 ,  0.00555703, -0.05628344, ..., -0.19470684,\n",
       "         -0.192021  , -0.31671846],\n",
       "        [-0.20485632,  0.01601491, -0.07491984, ..., -0.21679302,\n",
       "         -0.20614912, -0.3647179 ],\n",
       "        ...,\n",
       "        [-0.198812  ,  0.06451052, -0.12091839, ..., -0.23237343,\n",
       "         -0.23569652, -0.4251403 ],\n",
       "        [-0.20355964,  0.06633256, -0.12330785, ..., -0.23745988,\n",
       "         -0.23951869, -0.43202373],\n",
       "        [-0.20480518,  0.06766297, -0.12521304, ..., -0.23911731,\n",
       "         -0.23987556, -0.4352156 ]],\n",
       "\n",
       "       [[-0.14700986, -0.00427263, -0.03601211, ..., -0.13962951,\n",
       "         -0.15118021, -0.2188992 ],\n",
       "        [-0.19518588,  0.00598202, -0.05688537, ..., -0.1973172 ,\n",
       "         -0.19430515, -0.3202928 ],\n",
       "        [-0.20783539,  0.01656712, -0.07575303, ..., -0.21956351,\n",
       "         -0.20824735, -0.36842388],\n",
       "        ...,\n",
       "        [-0.19327569,  0.06893592, -0.12575938, ..., -0.22825862,\n",
       "         -0.23186114, -0.42588955],\n",
       "        [-0.1911239 ,  0.06857537, -0.12505828, ..., -0.22595336,\n",
       "         -0.2300392 , -0.42309016],\n",
       "        [-0.19084242,  0.06835648, -0.12450865, ..., -0.22552788,\n",
       "         -0.23015736, -0.42217767]],\n",
       "\n",
       "       ...,\n",
       "\n",
       "       [[-0.1259604 , -0.00625601, -0.03345672, ..., -0.12376012,\n",
       "         -0.13405317, -0.19637905],\n",
       "        [-0.16832876,  0.00238084, -0.05162681, ..., -0.17412485,\n",
       "         -0.17412415, -0.28880334],\n",
       "        [-0.17989056,  0.01168387, -0.06817379, ..., -0.19330221,\n",
       "         -0.18814486, -0.3334995 ],\n",
       "        ...,\n",
       "        [-0.18052876,  0.06187169, -0.11650385, ..., -0.21355584,\n",
       "         -0.22070421, -0.40347013],\n",
       "        [-0.18139747,  0.06230709, -0.11700691, ..., -0.21460757,\n",
       "         -0.22214425, -0.40500176],\n",
       "        [-0.17882788,  0.06225866, -0.11699705, ..., -0.21207944,\n",
       "         -0.21974453, -0.40266368]],\n",
       "\n",
       "       [[-0.12206346, -0.00662516, -0.03295776, ..., -0.12071043,\n",
       "         -0.13086192, -0.19214618],\n",
       "        [-0.16343294,  0.00173455, -0.05062549, ..., -0.16980799,\n",
       "         -0.17045438, -0.28295648],\n",
       "        [-0.17469026,  0.01080371, -0.06673267, ..., -0.18835425,\n",
       "         -0.18439104, -0.3268789 ],\n",
       "        ...,\n",
       "        [-0.14917518,  0.05520677, -0.10496354, ..., -0.18064952,\n",
       "         -0.19867107, -0.36140642],\n",
       "        [-0.15279378,  0.0550532 , -0.10457508, ..., -0.18420541,\n",
       "         -0.20176592, -0.3641969 ],\n",
       "        [-0.15738615,  0.05518864, -0.10495943, ..., -0.18876974,\n",
       "         -0.20506126, -0.36878678]],\n",
       "\n",
       "       [[-0.13310148, -0.00558129, -0.03434958, ..., -0.12925625,\n",
       "         -0.1398838 , -0.20408349],\n",
       "        [-0.17718087,  0.00356183, -0.05341607, ..., -0.18185572,\n",
       "         -0.1807438 , -0.29930347],\n",
       "        [-0.18996243,  0.0133779 , -0.07084037, ..., -0.20284642,\n",
       "         -0.19555251, -0.3461276 ],\n",
       "        ...,\n",
       "        [-0.18865861,  0.06031067, -0.11511701, ..., -0.22132535,\n",
       "         -0.22789893, -0.4094647 ],\n",
       "        [-0.18877742,  0.06152892, -0.11707394, ..., -0.22183932,\n",
       "         -0.22706048, -0.41176233],\n",
       "        [-0.18619683,  0.06222052, -0.11812102, ..., -0.2195864 ,\n",
       "         -0.22472042, -0.41071224]]], dtype=float32)"
      ]
     },
     "execution_count": 10,
     "metadata": {},
     "output_type": "execute_result"
    }
   ],
   "source": [
    "gru_output_model.predict(X_test)"
   ]
  },
  {
   "cell_type": "code",
   "execution_count": null,
   "metadata": {},
   "outputs": [],
   "source": []
  }
 ],
 "metadata": {
  "kernelspec": {
   "display_name": "Python 3",
   "language": "python",
   "name": "python3"
  },
  "language_info": {
   "codemirror_mode": {
    "name": "ipython",
    "version": 3
   },
   "file_extension": ".py",
   "mimetype": "text/x-python",
   "name": "python",
   "nbconvert_exporter": "python",
   "pygments_lexer": "ipython3",
   "version": "3.7.4"
  }
 },
 "nbformat": 4,
 "nbformat_minor": 2
}
